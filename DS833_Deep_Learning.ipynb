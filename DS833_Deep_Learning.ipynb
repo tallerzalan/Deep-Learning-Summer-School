{
  "cells": [
    {
      "cell_type": "markdown",
      "metadata": {
        "id": "view-in-github",
        "colab_type": "text"
      },
      "source": [
        "<a href=\"https://colab.research.google.com/github/tallerzalan/Deep-Learning-Summer-School/blob/main/DS833_Deep_Learning.ipynb\" target=\"_parent\"><img src=\"https://colab.research.google.com/assets/colab-badge.svg\" alt=\"Open In Colab\"/></a>"
      ]
    },
    {
      "cell_type": "markdown",
      "metadata": {
        "id": "2BuH2COCSJ_x"
      },
      "source": [
        "# Day 1. (Monday 8th August):"
      ]
    },
    {
      "cell_type": "markdown",
      "metadata": {
        "id": "AqiLkQWSzgyJ"
      },
      "source": [
        "## Imports"
      ]
    },
    {
      "cell_type": "code",
      "execution_count": null,
      "metadata": {
        "id": "gC3Qj3pLS8Aw"
      },
      "outputs": [],
      "source": [
        "%matplotlib inline"
      ]
    },
    {
      "cell_type": "code",
      "execution_count": null,
      "metadata": {
        "id": "QnEgSZStSFQo"
      },
      "outputs": [],
      "source": [
        "# TensorFlow and tf.keras\n",
        "import tensorflow as tf\n",
        "tf.random.set_seed(42)\n",
        "import keras\n",
        "from tensorflow.keras.models import Sequential, Model, load_model\n",
        "from keras.layers import Input, Conv2D, MaxPooling2D, Activation, Dense, Dropout, Flatten, BatchNormalization\n",
        "from keras.layers.advanced_activations import LeakyReLU\n",
        "from keras.datasets import mnist\n",
        "from tensorflow.keras.utils import to_categorical, plot_model\n",
        "from tensorflow.keras.optimizers import SGD\n",
        "from keras.preprocessing.image import load_img, img_to_array\n",
        "from keras import backend as K\n",
        "\n",
        "# Scikit-Learn\n",
        "from sklearn.model_selection import train_test_split, KFold\n",
        "from sklearn.metrics import confusion_matrix, classification_report\n",
        "\n",
        "# Commonly used modules\n",
        "import statsmodels.api as sm\n",
        "import numpy as np\n",
        "from numpy import mean, std, argmax\n",
        "np.random.seed(24)\n",
        "\n",
        "# Images, plots, display, and visualization\n",
        "import matplotlib.pyplot as plt\n",
        "import pandas as pd\n",
        "import seaborn as sns\n",
        "\n",
        "print(tf.__version__)"
      ]
    },
    {
      "cell_type": "markdown",
      "metadata": {
        "id": "_fT2T_bO4NMs"
      },
      "source": [
        "## Exercise 0:"
      ]
    },
    {
      "cell_type": "markdown",
      "metadata": {
        "id": "WpjotiIwJxo0"
      },
      "source": [
        "### NumPy"
      ]
    },
    {
      "cell_type": "code",
      "execution_count": null,
      "metadata": {
        "id": "-oCw8wTz3j_3"
      },
      "outputs": [],
      "source": [
        "a = np.full((2, 3), 4)\n",
        "b = np.array([[1, 2, 3], [4, 5, 6]])\n",
        "c = np.eye(2, 3)\n",
        "d = a + b + c\n",
        "\n",
        "print(d)"
      ]
    },
    {
      "cell_type": "code",
      "execution_count": null,
      "metadata": {
        "id": "B9KwFbm74XJ1"
      },
      "outputs": [],
      "source": [
        "a = np.array([[1, 2, 3, 4, 5],\n",
        "              [5, 4, 3, 2, 1],\n",
        "              [6, 7, 8, 9, 0],\n",
        "              [0, 9, 8, 7, 6]])\n",
        "\n",
        "row_sum = np.sum(a, axis = 0)\n",
        "col_sum = np.sum(a, axis = 1)\n",
        "transpose = np.transpose(a)\n",
        "\n",
        "print(row_sum)\n",
        "print(col_sum)\n",
        "print(transpose)"
      ]
    },
    {
      "cell_type": "markdown",
      "metadata": {
        "id": "N2FRys74NwK3"
      },
      "source": [
        "### Pandas"
      ]
    },
    {
      "cell_type": "code",
      "execution_count": null,
      "metadata": {
        "id": "tnzW1dxh4X3f"
      },
      "outputs": [],
      "source": [
        "url = 'https://github.com/selva86/datasets/blob/master/Auto.csv?raw=true'\n",
        "df = pd.read_csv(url)\n",
        "\n",
        "print(df.head())"
      ]
    },
    {
      "cell_type": "code",
      "execution_count": null,
      "metadata": {
        "id": "dlc7EKxPQrLV"
      },
      "outputs": [],
      "source": [
        "df_1 = df[df['mpg'] > 16]\n",
        "\n",
        "print(df_1.head())"
      ]
    },
    {
      "cell_type": "code",
      "execution_count": null,
      "metadata": {
        "id": "HxntU1V7IV_K"
      },
      "outputs": [],
      "source": [
        "df_2 = df[['weight', 'acceleration']].iloc[0:7]\n",
        "\n",
        "print(df_2)"
      ]
    },
    {
      "cell_type": "code",
      "execution_count": null,
      "metadata": {
        "id": "7WjSrgxcQ-Tn"
      },
      "outputs": [],
      "source": [
        "df_3 = df[df['horsepower'] != '?']\n",
        "df_3['horsepower'] = df_3['horsepower'].astype('int')\n",
        "\n",
        "print(df_3)"
      ]
    },
    {
      "cell_type": "code",
      "execution_count": null,
      "metadata": {
        "id": "J6Jvk-CtSNXV"
      },
      "outputs": [],
      "source": [
        "df.describe()"
      ]
    },
    {
      "cell_type": "markdown",
      "metadata": {
        "id": "CMq3aNojUt9g"
      },
      "source": [
        "### Matplotlib"
      ]
    },
    {
      "cell_type": "code",
      "execution_count": null,
      "metadata": {
        "id": "Jv_u6WodTmE7"
      },
      "outputs": [],
      "source": [
        "a = np.array([1, 1, 2, 3, 5, 8, 13, 21, 34])\n",
        "b = np.array([1, 8, 28, 56, 70, 56, 28, 8, 1])"
      ]
    },
    {
      "cell_type": "code",
      "execution_count": null,
      "metadata": {
        "id": "yeajHfrNUzLm"
      },
      "outputs": [],
      "source": [
        "plt.plot(a, label = 'Training')\n",
        "plt.plot(b, label = 'Validation')\n",
        "\n",
        "plt.xlabel('Epochs')\n",
        "plt.ylabel('Accuracy')\n",
        "plt.legend(loc = 'upper right')\n",
        "plt.title('Training and Validation Accuracy')\n",
        "\n",
        "plt.show()"
      ]
    },
    {
      "cell_type": "markdown",
      "metadata": {
        "id": "QrLz7Wf18yxt"
      },
      "source": [
        "# Day 2. (Tuesday 9th August):"
      ]
    },
    {
      "cell_type": "markdown",
      "metadata": {
        "id": "BsqI72dI_Wg8"
      },
      "source": [
        "## Exercise 1:"
      ]
    },
    {
      "cell_type": "markdown",
      "metadata": {
        "id": "GfN49RTXDpW7"
      },
      "source": [
        "### Data Cleaning"
      ]
    },
    {
      "cell_type": "code",
      "execution_count": null,
      "metadata": {
        "id": "fCN7-9RrTcI1"
      },
      "outputs": [],
      "source": [
        "# The MNIST data is split between 60,000 28 x 28 pixel training images and 10,000 28 x 28 pixel images\n",
        "(train_data, train_labels), (test_data, test_labels) = mnist.load_data()\n",
        "\n",
        "print(\"X_train shape\", train_data.shape)\n",
        "print(\"y_train amount\", train_labels.shape)\n",
        "print(\"X_test shape\", test_data.shape)\n",
        "print(\"y_test amount\", test_labels.shape)"
      ]
    },
    {
      "cell_type": "code",
      "execution_count": null,
      "metadata": {
        "id": "OFhGSatNT8q7"
      },
      "outputs": [],
      "source": [
        "train_data = train_data.reshape(60000, 28*28) # reshape 60,000 28 x 28 matrices into 60,000 784-length vectors.\n",
        "test_data = test_data.reshape(10000, 28*28) # reshape 10,000 28 x 28 matrices into 10,000 784-length vectors.\n",
        "\n",
        "train_data = train_data.astype('float32') # change integers to 32-bit floating point numbers\n",
        "test_data = test_data.astype('float32')\n",
        "\n",
        "train_data /= 255 # normalize each value for each pixel for the entire vector for each input\n",
        "test_data /= 255\n",
        "\n",
        "print(\"Training matrix shape\", train_data.shape)\n",
        "print(\"Testing matrix shape\", test_data.shape)"
      ]
    },
    {
      "cell_type": "code",
      "execution_count": null,
      "metadata": {
        "id": "RjGxoyN_Ux9g"
      },
      "outputs": [],
      "source": [
        "nb_classes = 10 # number of unique digits\n",
        "\n",
        "train_labels = to_categorical(train_labels, nb_classes)\n",
        "test_labels = to_categorical(test_labels, nb_classes)\n",
        "\n",
        "print(\"Training labels shape\", train_labels.shape)\n",
        "print(\"Testing labels shape\", test_labels.shape)"
      ]
    },
    {
      "cell_type": "markdown",
      "metadata": {
        "id": "eymxIPVhdp1P"
      },
      "source": [
        "### Model Fitting"
      ]
    },
    {
      "cell_type": "code",
      "execution_count": null,
      "metadata": {
        "id": "c6W7MiX9W3fq"
      },
      "outputs": [],
      "source": [
        "# The Sequential model is a linear stack of layers and is very common.\n",
        "model = Sequential()\n",
        "model.add(Dense(784, activation = 'relu', input_shape = (784,))) # (784,) represents a 784 length vector!\n",
        "model.add(Dense(256, activation = 'relu'))\n",
        "model.add(Dense(128, activation = 'relu'))\n",
        "model.add(Dense(10, activation = 'softmax'))\n",
        "\n",
        "# Dropout zeroes a selection of random outputs (i.e. disables their activation).\n",
        "# Dropout helps protect the model from \"memorizing\" or overfitting the training data.\n",
        "#model.add(Dropout(0.2))\n",
        "\n",
        "# The \"softmax\" activation represents a probability distribution over K different possible outcomes.\n",
        "# Its values are all non-negative and sum to 1.\n",
        "\n",
        "# Summarize the built model\n",
        "model.summary()"
      ]
    },
    {
      "cell_type": "code",
      "execution_count": null,
      "metadata": {
        "id": "J87u7qgokfo1"
      },
      "outputs": [],
      "source": [
        "plot_model(model, show_shapes = True)"
      ]
    },
    {
      "cell_type": "code",
      "execution_count": null,
      "metadata": {
        "id": "MiqQp8NrZCgl"
      },
      "outputs": [],
      "source": [
        "# Let's use the Adam optimizer for learning\n",
        "model.compile(optimizer = 'adam',\n",
        "              loss = 'categorical_crossentropy',\n",
        "              metrics = ['accuracy'])\n",
        "\n",
        "history = model.fit(x = train_data,\n",
        "                    y = train_labels,\n",
        "                    epochs = 10,\n",
        "                    batch_size = 2500,\n",
        "                    validation_data = (test_data, test_labels))"
      ]
    },
    {
      "cell_type": "markdown",
      "metadata": {
        "id": "Z-ucK2V0D08u"
      },
      "source": [
        "### Model Evaluation"
      ]
    },
    {
      "cell_type": "code",
      "execution_count": null,
      "metadata": {
        "id": "pWMeAP1c2MA8"
      },
      "outputs": [],
      "source": [
        "history_dict = history.history\n",
        "loss_values = history_dict['loss']\n",
        "val_loss_values = history_dict['val_loss']\n",
        "epochs = range(1, len(loss_values) + 1)\n",
        "\n",
        "# 'bo' is for blue dot, 'b' is for solid blue line\n",
        "plt.plot(epochs, loss_values, 'bo', label = 'Training Loss')\n",
        "plt.plot(epochs, val_loss_values, 'b', label = 'Validation Loss')\n",
        "plt.title('Training and Validation loss')\n",
        "plt.xlabel('Epochs')\n",
        "plt.ylabel('Loss')\n",
        "plt.legend()\n",
        "plt.show()"
      ]
    },
    {
      "cell_type": "code",
      "execution_count": null,
      "metadata": {
        "id": "0Qz7v_Iu2el8"
      },
      "outputs": [],
      "source": [
        "model.save('MNIST_model.h5')\n",
        "\n",
        "first_model = load_model('MNIST_model.h5')\n",
        "first_model.summary()"
      ]
    },
    {
      "cell_type": "markdown",
      "metadata": {
        "id": "NQyhKX9Tuxrt"
      },
      "source": [
        "# Day 3. (Wednesday 10th August):"
      ]
    },
    {
      "cell_type": "markdown",
      "metadata": {
        "id": "3FBMwCJfDsvQ"
      },
      "source": [
        "## Exercise 2:"
      ]
    },
    {
      "cell_type": "markdown",
      "metadata": {
        "id": "mZfoxqxaEMom"
      },
      "source": [
        "### EDA"
      ]
    },
    {
      "cell_type": "code",
      "execution_count": null,
      "metadata": {
        "id": "HdZTVKtLvaGG"
      },
      "outputs": [],
      "source": [
        "url = 'https://github.com/selva86/datasets/blob/master/Auto.csv?raw=true'\n",
        "cars = pd.read_csv(url)\n",
        "cars = cars[cars.horsepower != '?']\n",
        "\n",
        "print(df.info())"
      ]
    },
    {
      "cell_type": "code",
      "execution_count": null,
      "metadata": {
        "id": "a_9dd_CB6f74"
      },
      "outputs": [],
      "source": [
        "cars.describe()"
      ]
    },
    {
      "cell_type": "code",
      "execution_count": null,
      "metadata": {
        "id": "sEt7qJgR-ilL"
      },
      "outputs": [],
      "source": [
        "cars.hist(figsize = (15, 14), bins = 20)\n",
        "plt.show()"
      ]
    },
    {
      "cell_type": "code",
      "execution_count": null,
      "metadata": {
        "id": "sLSaYR4MA491"
      },
      "outputs": [],
      "source": [
        "regplot_cols = cars.select_dtypes(include = np.number).columns.drop('mpg')\n",
        "\n",
        "for col in regplot_cols:\n",
        "  sns.regplot(x = col, y = 'mpg', data = cars, line_kws = {\"color\": \"red\"})\n",
        "  plt.show()"
      ]
    },
    {
      "cell_type": "code",
      "execution_count": null,
      "metadata": {
        "id": "SpTTidZ_ApS5"
      },
      "outputs": [],
      "source": [
        "import warnings\n",
        "warnings.filterwarnings('ignore')\n",
        "\n",
        "sns.pairplot(cars, diag_kind = 'kde');\n",
        "#plt.savefig('pairplot.png')"
      ]
    },
    {
      "cell_type": "markdown",
      "metadata": {
        "id": "7XAh35beEGJD"
      },
      "source": [
        "### Regression"
      ]
    },
    {
      "cell_type": "markdown",
      "metadata": {
        "id": "X_WGEyrRYUCs"
      },
      "source": [
        "#### One Feature"
      ]
    },
    {
      "cell_type": "markdown",
      "metadata": {
        "id": "-PtNGkwEX1Tk"
      },
      "source": [
        "There is a quirk with the L.R. model implementation in statsmodel, therefore we need to explicitly add a constant term to get the intercept.\n"
      ]
    },
    {
      "cell_type": "code",
      "execution_count": null,
      "metadata": {
        "id": "ByfeFgtQUttn"
      },
      "outputs": [],
      "source": [
        "cars = sm.add_constant(cars)\n",
        "model_1var = sm.OLS(cars['mpg'], cars[['const', 'horsepower']])\n",
        "res_1var = model_1var.fit()\n",
        "res_1var.summary()"
      ]
    },
    {
      "cell_type": "code",
      "execution_count": null,
      "metadata": {
        "id": "TxTyMXQYYqMx"
      },
      "outputs": [],
      "source": [
        "res_1var.params"
      ]
    },
    {
      "cell_type": "markdown",
      "metadata": {
        "id": "QfH8Qws6Zc1P"
      },
      "source": [
        "#### All Features"
      ]
    },
    {
      "cell_type": "code",
      "execution_count": null,
      "metadata": {
        "id": "OsS4S5NvZArA"
      },
      "outputs": [],
      "source": [
        "Y = cars['mpg']\n",
        "X = cars.drop(['const', 'mpg', 'name', 'origin'], axis = 1)\n",
        "#X = pd.get_dummies(X, columns = [\"origin\"])\n",
        "X.head()"
      ]
    },
    {
      "cell_type": "code",
      "execution_count": null,
      "metadata": {
        "id": "oUl4z55ccpPO"
      },
      "outputs": [],
      "source": [
        "from sklearn.model_selection import train_test_split\n",
        "\n",
        "X_train, X_test, y_train, y_test = train_test_split(X, Y, test_size = 0.2, random_state = 42)"
      ]
    },
    {
      "cell_type": "code",
      "execution_count": null,
      "metadata": {
        "id": "gxzj5EIsgAKq"
      },
      "outputs": [],
      "source": [
        "import statsmodels.formula.api as smf\n",
        "\n",
        "df_train = pd.concat([y_train, X_train], axis = 1)\n",
        "reg = smf.ols('mpg ~ X_train', data = df_train)\n",
        "\n",
        "res = reg.fit()\n",
        "print(res.summary())"
      ]
    },
    {
      "cell_type": "markdown",
      "metadata": {
        "id": "csr3u5phg50n"
      },
      "source": [
        "#### Feature Selection"
      ]
    },
    {
      "cell_type": "code",
      "execution_count": null,
      "metadata": {
        "id": "MbGOSgT_glpg"
      },
      "outputs": [],
      "source": [
        "cols = list(X_train.columns)\n",
        "pmax = 1\n",
        "while (len(cols) > 0):\n",
        "    p= []\n",
        "    X_1 = X_train[cols]\n",
        "    X_1 = sm.add_constant(X_1)\n",
        "    model = sm.OLS(y_train,X_1).fit()\n",
        "    p = pd.Series(model.pvalues.values[1:], index = cols)      \n",
        "    pmax = max(p)\n",
        "    feature_with_p_max = p.idxmax()\n",
        "    if(pmax > 0.05):\n",
        "        cols.remove(feature_with_p_max)\n",
        "    else:\n",
        "        break\n",
        "\n",
        "selected_features = cols\n",
        "print(selected_features)"
      ]
    },
    {
      "cell_type": "code",
      "execution_count": null,
      "metadata": {
        "id": "WyMNtlRLhHfL"
      },
      "outputs": [],
      "source": [
        "newX_train = X_train[selected_features]\n",
        "reg2 = smf.ols('mpg ~ newX_train', data = df_train)\n",
        "\n",
        "res2 = reg2.fit()\n",
        "print(res2.summary())"
      ]
    },
    {
      "cell_type": "code",
      "execution_count": null,
      "metadata": {
        "id": "WV6gm2LphVNN"
      },
      "outputs": [],
      "source": [
        "from sklearn.linear_model import LinearRegression\n",
        "regression_model = LinearRegression()\n",
        "\n",
        "X_train2 = X_train[selected_features]\n",
        "regression_model.fit(X_train2, y_train)\n",
        "in_sampleScore = regression_model.score(X_train2, y_train)\n",
        "\n",
        "X_test2 = X_test[selected_features]\n",
        "out_sampleScore = regression_model.score(X_test2, y_test)\n",
        "\n",
        "print(in_sampleScore)\n",
        "print(out_sampleScore)"
      ]
    },
    {
      "cell_type": "code",
      "execution_count": null,
      "metadata": {
        "id": "jF_tSdXMhix4"
      },
      "outputs": [],
      "source": [
        "import statistics\n",
        "ols_model_accuracies = []\n",
        "\n",
        "for repetition in range(1000):\n",
        "    (training_inputs,\n",
        "     testing_inputs,\n",
        "     training_values,\n",
        "     testing_values) = train_test_split(X, Y, test_size = 0.2)\n",
        "    cols = list(X_train.columns)\n",
        "    pmax = 1\n",
        "    while (len(cols)>0):\n",
        "        p= []\n",
        "        X_1 = training_inputs[cols]\n",
        "        X_1 = sm.add_constant(X_1)\n",
        "        ols_model = sm.OLS(training_values, X_1).fit()\n",
        "        p = pd.Series(ols_model.pvalues.values[1:], index = cols)      \n",
        "        pmax = max(p)\n",
        "        feature_with_p_max = p.idxmax()\n",
        "        if(pmax > 0.05):\n",
        "            cols.remove(feature_with_p_max)\n",
        "        else:\n",
        "            break\n",
        "    selected_features= cols\n",
        "\n",
        "    training_inputs = training_inputs[selected_features]\n",
        "    testing_inputs = testing_inputs[selected_features]\n",
        "    regression_ols_model = LinearRegression()\n",
        "    regression_ols_model.fit(training_inputs, training_values)\n",
        "    classifier_accuracy = regression_ols_model.score(testing_inputs, testing_values)\n",
        "    ols_model_accuracies.append(classifier_accuracy)\n",
        "    \n",
        "print(\"Minimum Model Accuracy:\", min(ols_model_accuracies) * 100)\n",
        "print(\"Maximum model Accuracy:\", max(ols_model_accuracies) * 100)\n",
        "print(\"Median Model Accuracy:\", statistics.median(ols_model_accuracies) * 100)"
      ]
    },
    {
      "cell_type": "markdown",
      "metadata": {
        "id": "CMoSc9Mf2LVR"
      },
      "source": [
        "### Regression Improvement"
      ]
    },
    {
      "cell_type": "markdown",
      "metadata": {
        "id": "liy1dGXB4QAV"
      },
      "source": [
        "##### $Log10(X)$"
      ]
    },
    {
      "cell_type": "code",
      "execution_count": null,
      "metadata": {
        "id": "kMAKmEA7h7xs"
      },
      "outputs": [],
      "source": [
        "Y = cars['mpg']\n",
        "X1 = cars.drop(['mpg', 'name', 'origin'], axis = 1)\n",
        "X1 = np.log10(X1)\n",
        "X1.head()\n",
        "\n",
        "X1_train, X1_test, y_train, y_test = train_test_split(X1, Y, test_size = 0.2, random_state = 42)\n",
        "\n",
        "df_train = pd.concat([y_train, X1_train], axis = 1)\n",
        "reg1 = smf.ols('mpg ~ X1_train', data = df_train)\n",
        "\n",
        "res1 = reg1.fit()\n",
        "print(res1.summary())"
      ]
    },
    {
      "cell_type": "markdown",
      "metadata": {
        "id": "DhvsxwUL443Y"
      },
      "source": [
        "##### $\\sqrt{X}$"
      ]
    },
    {
      "cell_type": "code",
      "execution_count": null,
      "metadata": {
        "id": "cwxqlUMG4COh"
      },
      "outputs": [],
      "source": [
        "Y = cars['mpg']\n",
        "X2 = cars.drop(['mpg', 'name', 'origin'], axis = 1)\n",
        "X2 = np.sqrt(X2)\n",
        "X2.head()\n",
        "\n",
        "X2_train, X2_test, y_train, y_test = train_test_split(X2, Y, test_size = 0.2, random_state = 42)\n",
        "\n",
        "df_train = pd.concat([y_train, X2_train], axis = 1)\n",
        "reg1 = smf.ols('mpg ~ X2_train', data = df_train)\n",
        "\n",
        "res1 = reg1.fit()\n",
        "print(res1.summary())"
      ]
    },
    {
      "cell_type": "markdown",
      "metadata": {
        "id": "ekocj_R75iFD"
      },
      "source": [
        "##### $1/X$"
      ]
    },
    {
      "cell_type": "code",
      "execution_count": null,
      "metadata": {
        "id": "inpYOA9G5gDR"
      },
      "outputs": [],
      "source": [
        "Y = cars['mpg']\n",
        "X3 = cars.drop(['mpg', 'name', 'origin'], axis = 1)\n",
        "X3 = 1/X3\n",
        "X3.head()\n",
        "\n",
        "X3_train, X3_test, y_train, y_test = train_test_split(X3, Y, test_size = 0.2, random_state = 42)\n",
        "\n",
        "df_train = pd.concat([y_train, X3_train], axis = 1)\n",
        "reg1 = smf.ols('mpg ~ X3_train', data = df_train)\n",
        "\n",
        "res1 = reg1.fit()\n",
        "print(res1.summary())"
      ]
    },
    {
      "cell_type": "markdown",
      "metadata": {
        "id": "MZ_0MkBD6NZp"
      },
      "source": [
        "##### $X^2$"
      ]
    },
    {
      "cell_type": "code",
      "execution_count": null,
      "metadata": {
        "id": "7y7gDlPL6SUz"
      },
      "outputs": [],
      "source": [
        "Y = cars['mpg']\n",
        "X4 = cars.drop(['mpg', 'name', 'origin'], axis = 1)\n",
        "X4 = np.square(X4)\n",
        "X4.head()\n",
        "\n",
        "X4_train, X4_test, y_train, y_test = train_test_split(X4, Y, test_size = 0.2, random_state = 42)\n",
        "\n",
        "df_train = pd.concat([y_train, X4_train], axis = 1)\n",
        "reg1 = smf.ols('mpg ~ X4_train', data = df_train)\n",
        "\n",
        "res1 = reg1.fit()\n",
        "print(res1.summary())"
      ]
    },
    {
      "cell_type": "markdown",
      "metadata": {
        "id": "P8esSgUlv-s8"
      },
      "source": [
        "# Day 4. (Thursday 11th August):"
      ]
    },
    {
      "cell_type": "markdown",
      "metadata": {
        "id": "X2_1ua8EwGBi"
      },
      "source": [
        "## Exercise 3:"
      ]
    },
    {
      "cell_type": "markdown",
      "metadata": {
        "id": "uBSf-qPE96sQ"
      },
      "source": [
        "### Initial Model"
      ]
    },
    {
      "cell_type": "code",
      "execution_count": null,
      "metadata": {
        "id": "w8MpSEBQTY2-"
      },
      "outputs": [],
      "source": [
        "tf.random.set_seed(42)\n",
        "\n",
        "initial_model = Sequential()\n",
        "initial_model.add(Dense(784, activation = 'relu', input_shape = (784,)))\n",
        "initial_model.add(Dense(512, activation = 'relu'))\n",
        "initial_model.add(Dense(256, activation = 'relu'))\n",
        "initial_model.add(Dense(128, activation = 'relu'))\n",
        "initial_model.add(Dense(64, activation = 'relu'))\n",
        "initial_model.add(Dense(32, activation = 'relu'))\n",
        "initial_model.add(Dense(16, activation = 'relu'))\n",
        "initial_model.add(Dense(10, activation = 'softmax'))\n",
        "\n",
        "initial_model.compile(optimizer = 'adam',\n",
        "                      loss = 'categorical_crossentropy',\n",
        "                      metrics = ['accuracy'])\n",
        "\n",
        "initial_history = initial_model.fit(x = train_data,\n",
        "                                    y = train_labels,\n",
        "                                    epochs = 10,\n",
        "                                    batch_size = 2500,\n",
        "                                    validation_data = (test_data, test_labels))\n",
        "\n",
        "initial_history_dict = initial_history.history\n",
        "loss_values = initial_history_dict['loss']\n",
        "val_loss_values = initial_history_dict['val_loss']\n",
        "epochs = range(1, len(loss_values) + 1)\n",
        "\n",
        "# 'bo' is for blue dot, 'b' is for solid blue line\n",
        "plt.plot(epochs, loss_values, 'bo', label = 'Training Loss')\n",
        "plt.plot(epochs, val_loss_values, 'r', label = 'Validation Loss')\n",
        "plt.title('Training and Validation loss')\n",
        "plt.xlabel('Epochs')\n",
        "plt.ylabel('Loss')\n",
        "plt.legend()\n",
        "plt.show()"
      ]
    },
    {
      "cell_type": "markdown",
      "metadata": {
        "id": "yWzMHgl2z1Jw"
      },
      "source": [
        "### L2 Regularized Model Fitting"
      ]
    },
    {
      "cell_type": "markdown",
      "metadata": {
        "id": "4Rxh6MjRIu5M"
      },
      "source": [
        "No additional layer is added if l1 or l2 regularization is used. The regularization is imposed in the Dense layer internally."
      ]
    },
    {
      "cell_type": "code",
      "execution_count": null,
      "metadata": {
        "id": "20r_O6_3Dlf_"
      },
      "outputs": [],
      "source": [
        "from keras.regularizers import l2\n",
        "tf.random.set_seed(42)\n",
        "\n",
        "l2_regularized_model = Sequential()\n",
        "l2_regularized_model.add(Dense(784, activation = 'relu', kernel_regularizer = l2(0.001), input_shape = (784,)))\n",
        "l2_regularized_model.add(Dense(512, activation = 'relu', kernel_regularizer = l2(0.001)))\n",
        "l2_regularized_model.add(Dense(256, activation = 'relu', kernel_regularizer = l2(0.001)))\n",
        "l2_regularized_model.add(Dense(128, activation = 'relu', kernel_regularizer = l2(0.001)))\n",
        "l2_regularized_model.add(Dense(64, activation = 'relu', kernel_regularizer = l2(0.001)))\n",
        "l2_regularized_model.add(Dense(32, activation = 'relu', kernel_regularizer = l2(0.001)))\n",
        "l2_regularized_model.add(Dense(16, activation = 'relu', kernel_regularizer = l2(0.001)))\n",
        "l2_regularized_model.add(Dense(10, activation = 'softmax'))\n",
        "\n",
        "l2_regularized_model.compile(optimizer = 'adam', loss = 'categorical_crossentropy', metrics = ['accuracy'])\n",
        "\n",
        "l2_regularized_history = l2_regularized_model.fit(x = train_data,\n",
        "                                            y = train_labels,\n",
        "                                            epochs = 10,\n",
        "                                            batch_size = 2500,\n",
        "                                            validation_data = (test_data, test_labels))\n",
        "\n",
        "l2_regularized_history_dict = l2_regularized_history.history\n",
        "loss_values = l2_regularized_history_dict['loss']\n",
        "val_loss_values = l2_regularized_history_dict['val_loss']\n",
        "epochs = range(1, len(loss_values) + 1)\n",
        "\n",
        "# 'bo' is for blue dot, 'b' is for solid blue line\n",
        "plt.plot(epochs, loss_values, 'bo', label = 'Training Loss')\n",
        "plt.plot(epochs, val_loss_values, 'r', label = 'Validation Loss')\n",
        "plt.title('Training and Validation loss')\n",
        "plt.xlabel('Epochs')\n",
        "plt.ylabel('Loss')\n",
        "plt.legend()\n",
        "plt.show()"
      ]
    },
    {
      "cell_type": "markdown",
      "metadata": {
        "id": "4mmM8cMKJMJS"
      },
      "source": [
        "### Droupout Layer(s)"
      ]
    },
    {
      "cell_type": "markdown",
      "metadata": {
        "id": "gdJ5UaJyOxIv"
      },
      "source": [
        "Given a dropout rate of 0.45, the Dropout layer randomly removes the fraction of units from participating in the next layer.\n",
        "\n",
        "E.g. if the first layer has 748 units, after dropout = 0.45 is applied, only (1 - 0.45) * 748 units = 411 units from layer 1 participate in layer 2."
      ]
    },
    {
      "cell_type": "code",
      "execution_count": null,
      "metadata": {
        "id": "nVG0S_nNF4QU"
      },
      "outputs": [],
      "source": [
        "tf.random.set_seed(42)\n",
        "\n",
        "dropout_model = Sequential()\n",
        "dropout_model.add(Dense(784, activation = 'relu', input_shape = (784,)))\n",
        "dropout_model.add(Dropout(0.45))\n",
        "dropout_model.add(Dense(512, activation = 'relu'))\n",
        "dropout_model.add(Dense(256, activation = 'relu'))\n",
        "dropout_model.add(Dropout(0.45))\n",
        "dropout_model.add(Dense(128, activation = 'relu'))\n",
        "dropout_model.add(Dense(64, activation = 'relu'))\n",
        "dropout_model.add(Dropout(0.45))\n",
        "dropout_model.add(Dense(32, activation = 'relu'))\n",
        "dropout_model.add(Dense(16, activation = 'relu'))\n",
        "dropout_model.add(Dropout(0.45))\n",
        "dropout_model.add(Dense(10, activation = 'softmax'))\n",
        "\n",
        "dropout_model.compile(optimizer = 'adam', loss = 'categorical_crossentropy', metrics = ['accuracy'])\n",
        "\n",
        "dropout_history = dropout_model.fit(x = train_data,\n",
        "                                    y = train_labels,\n",
        "                                    epochs = 10,\n",
        "                                    batch_size = 2500,\n",
        "                                    validation_data = (test_data, test_labels))\n",
        "\n",
        "dropout_history_dict = dropout_history.history\n",
        "loss_values = dropout_history_dict['loss']\n",
        "val_loss_values = dropout_history_dict['val_loss']\n",
        "epochs = range(1, len(loss_values) + 1)\n",
        "\n",
        "# 'bo' is for blue dot, 'b' is for solid blue line\n",
        "plt.plot(epochs, loss_values, 'bo', label = 'Training Loss')\n",
        "plt.plot(epochs, val_loss_values, 'r', label = 'Validation Loss')\n",
        "plt.title('Training and Validation loss')\n",
        "plt.xlabel('Epochs')\n",
        "plt.ylabel('Loss')\n",
        "plt.legend()\n",
        "plt.show()"
      ]
    },
    {
      "cell_type": "markdown",
      "metadata": {
        "id": "KCJdC8tzl3Kc"
      },
      "source": [
        "### L1 vs. L2"
      ]
    },
    {
      "cell_type": "code",
      "execution_count": null,
      "metadata": {
        "id": "keuT7cg4l6Xq"
      },
      "outputs": [],
      "source": [
        "from keras.regularizers import l1\n",
        "tf.random.set_seed(42)\n",
        "\n",
        "l1_regularized_model = Sequential()\n",
        "l1_regularized_model.add(Dense(784, activation = 'relu', kernel_regularizer = l1(0.0001), input_shape = (784,)))\n",
        "l1_regularized_model.add(Dense(512, activation = 'relu', kernel_regularizer = l1(0.0001)))\n",
        "l1_regularized_model.add(Dense(256, activation = 'relu', kernel_regularizer = l1(0.0001)))\n",
        "l1_regularized_model.add(Dense(128, activation = 'relu', kernel_regularizer = l1(0.0001)))\n",
        "l1_regularized_model.add(Dense(64, activation = 'relu', kernel_regularizer = l1(0.0001)))\n",
        "l1_regularized_model.add(Dense(32, activation = 'relu', kernel_regularizer = l1(0.0001)))\n",
        "l1_regularized_model.add(Dense(16, activation = 'relu', kernel_regularizer = l1(0.0001)))\n",
        "l1_regularized_model.add(Dense(10, activation = 'softmax'))\n",
        "\n",
        "l1_regularized_model.compile(optimizer = 'adam', loss = 'categorical_crossentropy', metrics = ['accuracy'])\n",
        "\n",
        "l1_regularized_history = l1_regularized_model.fit(x = train_data,\n",
        "                                            y = train_labels,\n",
        "                                            epochs = 10,\n",
        "                                            batch_size = 5000,\n",
        "                                            validation_data = (test_data, test_labels))\n",
        "\n",
        "l1_regularized_history_dict = l1_regularized_history.history\n",
        "loss_values = l1_regularized_history_dict['loss']\n",
        "val_loss_values = l1_regularized_history_dict['val_loss']\n",
        "epochs = range(1, len(loss_values) + 1)\n",
        "\n",
        "# 'bo' is for blue dot, 'b' is for solid blue line\n",
        "plt.plot(epochs, loss_values, 'bo', label = 'Training Loss')\n",
        "plt.plot(epochs, val_loss_values, 'r', label = 'Validation Loss')\n",
        "plt.title('Training and Validation loss')\n",
        "plt.xlabel('Epochs')\n",
        "plt.ylabel('Loss')\n",
        "plt.legend()\n",
        "plt.show()"
      ]
    },
    {
      "cell_type": "markdown",
      "metadata": {
        "id": "iOKc3WqdsEvv"
      },
      "source": [
        "### Best Model"
      ]
    },
    {
      "cell_type": "code",
      "execution_count": null,
      "metadata": {
        "id": "n6ZxN3-QsEHp"
      },
      "outputs": [],
      "source": [
        "tf.random.set_seed(42)\n",
        "\n",
        "best_model = Sequential()\n",
        "best_model.add(Dense(784, activation = 'relu', input_shape = (784,)))\n",
        "best_model.add(Dense(256, activation = 'relu'))\n",
        "best_model.add(Dense(128, activation = 'relu'))\n",
        "best_model.add(Dense(10, activation = 'softmax'))\n",
        "\n",
        "best_model.compile(optimizer = 'adam',\n",
        "                   loss = 'categorical_crossentropy',\n",
        "                   metrics = ['accuracy'])\n",
        "\n",
        "best_history = best_model.fit(x = train_data,\n",
        "                              y = train_labels,\n",
        "                              epochs = 10,\n",
        "                              batch_size = 2500,\n",
        "                              validation_data = (test_data, test_labels))\n",
        "\n",
        "best_history_dict = best_history.history\n",
        "loss_values = best_history_dict['loss']\n",
        "val_loss_values = best_history_dict['val_loss']\n",
        "epochs = range(1, len(loss_values) + 1)\n",
        "\n",
        "# 'bo' is for blue dot, 'b' is for solid blue line\n",
        "plt.plot(epochs, loss_values, 'bo', label = 'Training Loss')\n",
        "plt.plot(epochs, val_loss_values, 'r', label = 'Validation Loss')\n",
        "plt.title('Training and Validation loss')\n",
        "plt.xlabel('Epochs')\n",
        "plt.ylabel('Loss')\n",
        "plt.legend()\n",
        "plt.show()"
      ]
    },
    {
      "cell_type": "markdown",
      "metadata": {
        "id": "jc8_LVf7B7KS"
      },
      "source": [
        "# Day 6. (Monday 15th August):"
      ]
    },
    {
      "cell_type": "markdown",
      "metadata": {
        "id": "qR_k_rjtVRdn"
      },
      "source": [
        "## Exercise 4:"
      ]
    },
    {
      "cell_type": "markdown",
      "source": [
        "### Data Pre-Processing"
      ],
      "metadata": {
        "id": "VtGajkasaSSK"
      }
    },
    {
      "cell_type": "code",
      "source": [
        "(train_X, train_Y), (test_X, test_Y) = mnist.load_data()\n",
        "\n",
        "print('Training data shape: ', train_X.shape, train_Y.shape)\n",
        "print('Testing data shape: ', test_X.shape, test_Y.shape)"
      ],
      "metadata": {
        "id": "S05XumEaZ9UM"
      },
      "execution_count": null,
      "outputs": []
    },
    {
      "cell_type": "code",
      "source": [
        "classes = np.unique(train_Y)\n",
        "nClasses = len(classes)\n",
        "\n",
        "print('Total number of outputs: ', nClasses)\n",
        "print('Output classes: ', classes)"
      ],
      "metadata": {
        "id": "yzuxxFVvhHLS"
      },
      "execution_count": null,
      "outputs": []
    },
    {
      "cell_type": "code",
      "source": [
        "plt.figure(figsize = [5, 5])\n",
        "\n",
        "# Display the first image in training data\n",
        "plt.subplot(121)\n",
        "plt.imshow(train_X[0, :, :], cmap = 'gray')\n",
        "plt.title(\"Ground Truth: {}\".format(train_Y[0]))\n",
        "\n",
        "# Display the first image in testing data\n",
        "plt.subplot(122)\n",
        "plt.imshow(test_X[0, :, :], cmap = 'gray')\n",
        "plt.title(\"Ground Truth: {}\".format(test_Y[0]))"
      ],
      "metadata": {
        "id": "NemVn_IOhKNO"
      },
      "execution_count": null,
      "outputs": []
    },
    {
      "cell_type": "code",
      "source": [
        "train_X = train_X.reshape(-1, 28, 28, 1)\n",
        "test_X = test_X.reshape(-1, 28, 28, 1)\n",
        "\n",
        "print('Dimensions of the training set: ', train_X.shape)\n",
        "print('Dimensions of the test set: ', test_X.shape)"
      ],
      "metadata": {
        "id": "71xnn7JDhb9Q"
      },
      "execution_count": null,
      "outputs": []
    },
    {
      "cell_type": "code",
      "source": [
        "train_X = train_X.astype('float32')\n",
        "test_X = test_X.astype('float32')\n",
        "\n",
        "train_X = train_X / 255.\n",
        "test_X = test_X / 255.\n",
        "\n",
        "# Change the labels from categorical to one-hot encoding\n",
        "train_Y_one_hot = to_categorical(train_Y)\n",
        "test_Y_one_hot = to_categorical(test_Y)\n",
        "\n",
        "# Display the change for category label using one-hot encoding\n",
        "print('Original label:', train_Y[0])\n",
        "print('After conversion to one-hot:', train_Y_one_hot[0])"
      ],
      "metadata": {
        "id": "Rlwm2YCvh7oh"
      },
      "execution_count": null,
      "outputs": []
    },
    {
      "cell_type": "code",
      "source": [
        "train_X, valid_X, train_label, valid_label = train_test_split(train_X,\n",
        "                                                              train_Y_one_hot,\n",
        "                                                              test_size = 0.2,\n",
        "                                                              random_state = 13)\n",
        "\n",
        "print('Dimensions of the training set (X): ', train_X.shape)\n",
        "print('Dimensions of the validation set (X): ', valid_X.shape)\n",
        "print('Dimensions of the test set (Y): ', train_label.shape)\n",
        "print('Dimensions of the test validation set (Y): ', valid_label.shape)"
      ],
      "metadata": {
        "id": "_IpMGpiHiMMX"
      },
      "execution_count": null,
      "outputs": []
    },
    {
      "cell_type": "markdown",
      "source": [
        "### Baseline CNN Model"
      ],
      "metadata": {
        "id": "gWgkER8Zaewb"
      }
    },
    {
      "cell_type": "code",
      "source": [
        "batch_size = 5000\n",
        "epochs = 10\n",
        "num_classes = 10\n",
        "input_shape = (28, 28, 1)"
      ],
      "metadata": {
        "id": "iq0LdO5pz4qw"
      },
      "execution_count": null,
      "outputs": []
    },
    {
      "cell_type": "markdown",
      "source": [
        "#### Building"
      ],
      "metadata": {
        "id": "vxfO2CxZwJye"
      }
    },
    {
      "cell_type": "code",
      "source": [
        "baseline_model = Sequential()\n",
        "baseline_model.add(Conv2D(16, kernel_size = (3, 3), activation = 'linear', input_shape = input_shape, padding = 'same'))\n",
        "baseline_model.add(LeakyReLU(alpha = 0.1))\n",
        "baseline_model.add(MaxPooling2D((2, 2), padding = 'same'))\n",
        "baseline_model.add(Conv2D(32, (3, 3), activation = 'linear', padding = 'same'))\n",
        "baseline_model.add(LeakyReLU(alpha = 0.1))\n",
        "baseline_model.add(MaxPooling2D(pool_size = (2, 2), padding = 'same'))\n",
        "baseline_model.add(Conv2D(64, (3, 3), activation = 'linear', padding = 'same'))\n",
        "baseline_model.add(LeakyReLU(alpha = 0.1))\n",
        "baseline_model.add(MaxPooling2D(pool_size = (2, 2), padding = 'same'))\n",
        "baseline_model.add(Flatten())\n",
        "baseline_model.add(Dense(64, activation = 'linear'))\n",
        "baseline_model.add(LeakyReLU(alpha = 0.1))      \n",
        "baseline_model.add(Dense(num_classes, activation = 'softmax'))\n",
        "\n",
        "baseline_model.compile(loss = \"categorical_crossentropy\", optimizer = \"adam\", metrics = [\"accuracy\"])\n",
        "\n",
        "baseline_model.summary()"
      ],
      "metadata": {
        "id": "wZK4QxzGoxae"
      },
      "execution_count": null,
      "outputs": []
    },
    {
      "cell_type": "markdown",
      "source": [
        "#### Training"
      ],
      "metadata": {
        "id": "6m7H6hz9wPed"
      }
    },
    {
      "cell_type": "code",
      "source": [
        "baseline_model_train = baseline_model.fit(train_X,\n",
        "                                 train_label,\n",
        "                                 batch_size = batch_size,\n",
        "                                 epochs = epochs,\n",
        "                                 verbose = 1,\n",
        "                                 validation_data = (valid_X, valid_label))\n"
      ],
      "metadata": {
        "id": "KAFCkHCipZae"
      },
      "execution_count": null,
      "outputs": []
    },
    {
      "cell_type": "markdown",
      "source": [
        "#### Evaluation"
      ],
      "metadata": {
        "id": "vkvcL8p3wWKK"
      }
    },
    {
      "cell_type": "code",
      "source": [
        "baseline_test_eval = baseline_model.evaluate(test_X,\n",
        "                                             test_Y_one_hot,\n",
        "                                             verbose = 1)\n",
        "\n",
        "print('Test loss:', baseline_test_eval[0])\n",
        "print('Test accuracy:', baseline_test_eval[1])"
      ],
      "metadata": {
        "id": "XTlgjjonqJbL"
      },
      "execution_count": null,
      "outputs": []
    },
    {
      "cell_type": "code",
      "source": [
        "accuracy = baseline_model_train.history['accuracy']\n",
        "val_accuracy = baseline_model_train.history['val_accuracy']\n",
        "loss = baseline_model_train.history['loss']\n",
        "val_loss = baseline_model_train.history['val_loss']\n",
        "\n",
        "epochs = range(len(accuracy))\n",
        "\n",
        "plt.plot(epochs, accuracy, 'bo', label = 'Training accuracy')\n",
        "plt.plot(epochs, val_accuracy, 'r', label = 'Validation accuracy')\n",
        "plt.title('Training and Validation Accuracy')\n",
        "plt.legend()\n",
        "plt.figure()\n",
        "\n",
        "plt.plot(epochs, loss, 'bo', label = 'Training loss')\n",
        "plt.plot(epochs, val_loss, 'r', label = 'Validation loss')\n",
        "plt.title('Training and Validation Loss')\n",
        "plt.legend()\n",
        "plt.show()"
      ],
      "metadata": {
        "id": "3hCrPb3HqMdB"
      },
      "execution_count": null,
      "outputs": []
    },
    {
      "cell_type": "markdown",
      "source": [
        "#### Prediction"
      ],
      "metadata": {
        "id": "v00TMhCK6ZXP"
      }
    },
    {
      "cell_type": "code",
      "source": [
        "predicted_classes = baseline_model.predict(test_X)\n",
        "\n",
        "predicted_classes = np.argmax(np.round(predicted_classes), axis = 1)\n",
        "\n",
        "print('The shape of the predicted classes is:', predicted_classes.shape)\n",
        "print('The shape of the test set (Y) is:', test_Y.shape)"
      ],
      "metadata": {
        "id": "Jf8FKmg31pef"
      },
      "execution_count": null,
      "outputs": []
    },
    {
      "cell_type": "code",
      "source": [
        "correct = np.where(predicted_classes == test_Y)[0]\n",
        "print(\"Found %d correct labels\" % len(correct))\n",
        "\n",
        "for i, correct in enumerate(correct[:9]):\n",
        "    plt.subplot(3, 3, i+1)\n",
        "    plt.imshow(test_X[correct].reshape(28, 28), cmap = 'gray', interpolation = 'none')\n",
        "    plt.title(\"Predicted {}, Class {}\".format(predicted_classes[correct], test_Y[correct]))\n",
        "    plt.tight_layout()"
      ],
      "metadata": {
        "id": "r6wMaHaU2N0g"
      },
      "execution_count": null,
      "outputs": []
    },
    {
      "cell_type": "code",
      "source": [
        "incorrect = np.where(predicted_classes != test_Y)[0]\n",
        "print(\"Found %d incorrect labels\" % len(incorrect))\n",
        "\n",
        "for i, incorrect in enumerate(incorrect[:9]):\n",
        "    plt.subplot(3, 3, i+1)\n",
        "    plt.imshow(test_X[incorrect].reshape(28, 28), cmap = 'gray', interpolation = 'none')\n",
        "    plt.title(\"Predicted {}, Class {}\".format(predicted_classes[incorrect], test_Y[incorrect]))\n",
        "    plt.tight_layout()\n",
        "\n",
        "plt.savefig('440_incorrect.png')"
      ],
      "metadata": {
        "id": "9u8Z5uvr2aHr"
      },
      "execution_count": null,
      "outputs": []
    },
    {
      "cell_type": "code",
      "source": [
        "import warnings\n",
        "warnings.filterwarnings('ignore')\n",
        "\n",
        "target_names = [\"Class {}\".format(i) for i in range(num_classes)]\n",
        "print(classification_report(test_Y, predicted_classes, target_names = target_names))"
      ],
      "metadata": {
        "id": "AVD2LTGp2n87"
      },
      "execution_count": null,
      "outputs": []
    },
    {
      "cell_type": "markdown",
      "source": [
        "### a.) Visualizing Intermediate Activations"
      ],
      "metadata": {
        "id": "TJnTFCBTkIvW"
      }
    },
    {
      "cell_type": "code",
      "source": [
        "kernels = baseline_model.get_layer(name = 'conv2d').get_weights()[0][:, :, 0, :]\n",
        "print(kernels)"
      ],
      "metadata": {
        "id": "TFpto1bRrv3J"
      },
      "execution_count": null,
      "outputs": []
    },
    {
      "cell_type": "code",
      "source": [
        "for i in range(0, 3):\n",
        "  for j in range(0, 3):\n",
        "    plt.plot(kernels[i][j])\n",
        "    plt.show()"
      ],
      "metadata": {
        "id": "7P_8PyPF-gwa"
      },
      "execution_count": null,
      "outputs": []
    },
    {
      "cell_type": "code",
      "source": [
        "for i in range(0, 3):\n",
        "  for j in range(0, 3):\n",
        "    plt.plot(kernels[i][j])\n",
        "\n",
        "plt.show()"
      ],
      "metadata": {
        "id": "vNki2eS5ARk4"
      },
      "execution_count": null,
      "outputs": []
    },
    {
      "cell_type": "code",
      "source": [
        "for kernel in kernels:\n",
        "  plt.plot(kernel)\n",
        "\n",
        "plt.show()"
      ],
      "metadata": {
        "id": "pYBHY014AdrF"
      },
      "execution_count": null,
      "outputs": []
    },
    {
      "cell_type": "markdown",
      "source": [
        "### b.) Visualizing Intermediate Activations"
      ],
      "metadata": {
        "id": "QJ7SQ7zWeZQg"
      }
    },
    {
      "cell_type": "code",
      "source": [
        "# choose any image to want by specifying the index\n",
        "img_to_visualize = train_X[51]\n",
        "\n",
        "# Keras requires the image to be in 4D, so we add an extra dimension to it.\n",
        "img_to_visualize = np.expand_dims(img_to_visualize, axis=0)"
      ],
      "metadata": {
        "id": "F-wlTWLNkKK6"
      },
      "execution_count": null,
      "outputs": []
    },
    {
      "cell_type": "code",
      "source": [
        "layer_outputs = [layer.output for layer in baseline_model.layers]\n",
        "activation_model = Model(inputs = baseline_model.input, outputs = layer_outputs)\n",
        "\n",
        "img = img_to_visualize.reshape(1, 28, 28, 1)\n",
        "fig = plt.figure(figsize = (5, 5))\n",
        "plt.imshow(img[0, :, :, 0], cmap = \"gray\")\n",
        "plt.axis('off')"
      ],
      "metadata": {
        "id": "-MjQUGvbTT25"
      },
      "execution_count": null,
      "outputs": []
    },
    {
      "cell_type": "code",
      "source": [
        "activations = activation_model.predict(img)\n",
        "\n",
        "layer_names = []\n",
        "for layer in baseline_model.layers[0:3]:\n",
        "    layer_names.append(layer.name) # Names of the layers, so you can have them as part of your plot\n",
        "    \n",
        "images_per_row = 16\n",
        "for layer_name, layer_activation in zip(layer_names, activations): # Displays the feature maps\n",
        "    n_features = layer_activation.shape[-1] # Number of features in the feature map\n",
        "    size = layer_activation.shape[1] # The feature map has shape (1, size, size, n_features).\n",
        "    n_cols = n_features // images_per_row # Tiles the activation channels in this matrix\n",
        "    display_grid = np.zeros((size * n_cols, images_per_row * size))\n",
        "    for col in range(n_cols): # Tiles each filter into a big horizontal grid\n",
        "        for row in range(images_per_row):\n",
        "            channel_image = layer_activation[0, :, :, col * images_per_row + row]\n",
        "            channel_image -= channel_image.mean() # Post-processes the feature to make it visually palatable\n",
        "            channel_image /= channel_image.std()\n",
        "            channel_image *= 64\n",
        "            channel_image += 128\n",
        "            channel_image = np.clip(channel_image, 0, 255).astype('uint8')\n",
        "            display_grid[col * size : (col + 1) * size, # Displays the grid\n",
        "                         row * size : (row + 1) * size] = channel_image\n",
        "    scale = 1. / size\n",
        "    plt.figure(figsize=(scale * display_grid.shape[1],\n",
        "                        scale * display_grid.shape[0]))\n",
        "    plt.title(layer_name)\n",
        "    plt.grid(False)\n",
        "    plt.imshow(display_grid, aspect = 'auto', cmap = 'viridis')"
      ],
      "metadata": {
        "id": "M3cErOERedgf"
      },
      "execution_count": null,
      "outputs": []
    },
    {
      "cell_type": "code",
      "source": [
        "def display_activation(activations, col_s, row_s, act_index):\n",
        "  activation = activations[act_index]\n",
        "  activation_index = 0\n",
        "  fig, ax = plt.subplots(row_s, col_s, figsize = (row_s*2.5, col_s*1.5))\n",
        "  for row in range(0, row_s):\n",
        "    for col in range(0,col_s):\n",
        "      ax[row][col].imshow(activation[0, :, :, activation_index], cmap = 'gray')\n",
        "      activation_index += 1\n",
        "\n",
        "for i in range(0, 3):\n",
        "  display_activation(activations, 2, 2, i) "
      ],
      "metadata": {
        "id": "eDQkGv_Qeh0D"
      },
      "execution_count": null,
      "outputs": []
    },
    {
      "cell_type": "markdown",
      "source": [
        "### c.) cnnvis.py"
      ],
      "metadata": {
        "id": "SVK1F8dzd_Ph"
      }
    },
    {
      "cell_type": "markdown",
      "source": [
        "# Day 7. (Tuesday 16th August):"
      ],
      "metadata": {
        "id": "ewjLdUflyNJZ"
      }
    },
    {
      "cell_type": "markdown",
      "source": [
        "## Exercise 5:"
      ],
      "metadata": {
        "id": "crhbOZZKyTeL"
      }
    },
    {
      "cell_type": "markdown",
      "source": [
        "### 1.) Feed-Forward Neural Network on MNIST:"
      ],
      "metadata": {
        "id": "jU7Tv1EmyZp6"
      }
    },
    {
      "cell_type": "markdown",
      "source": [
        "### 2.) Recurrent Neural Network on IMDb:"
      ],
      "metadata": {
        "id": "eBXf53Cg1sY_"
      }
    },
    {
      "cell_type": "markdown",
      "source": [
        "#### Data Import"
      ],
      "metadata": {
        "id": "cgrzRH0R5-c3"
      }
    },
    {
      "cell_type": "code",
      "source": [
        "from keras.datasets import imdb\n",
        "from keras.preprocessing import sequence\n",
        "\n",
        "# Load the dataset but only keep the top n words, zero the rest\n",
        "top_words = 10000\n",
        "(X_train, y_train), (X_test, y_test) = imdb.load_data(num_words = top_words)\n",
        "\n",
        "# Truncate and pad input sequences\n",
        "max_review_length = 500\n",
        "X_train = sequence.pad_sequences(X_train, maxlen = max_review_length)\n",
        "X_test = sequence.pad_sequences(X_test, maxlen = max_review_length)\n",
        "\n",
        "print(X_train.shape)\n",
        "print(X_test.shape)"
      ],
      "metadata": {
        "id": "DQxwC5vMJBS5"
      },
      "execution_count": null,
      "outputs": []
    },
    {
      "cell_type": "markdown",
      "source": [
        "#### Building"
      ],
      "metadata": {
        "id": "BtyK_SUC6GPm"
      }
    },
    {
      "cell_type": "code",
      "source": [
        "from keras.layers import Embedding, LSTM\n",
        "\n",
        "# Create the model\n",
        "embedding_vecor_length = 128\n",
        "\n",
        "visible = Input(shape = max_review_length)\n",
        "hidden1 = Embedding(top_words, embedding_vecor_length, input_length = max_review_length)(visible)\n",
        "hidden2 = LSTM(60, activation = 'tanh')(hidden1)\n",
        "output = Dense(1, activation = 'sigmoid')(hidden2)\n",
        "model = Model(inputs = visible, outputs = output)\n",
        "\n",
        "model.compile(loss = 'binary_crossentropy', optimizer = 'adam', metrics = ['accuracy'])\n",
        "\n",
        "print(model.summary())"
      ],
      "metadata": {
        "id": "sxoVY4riJBqp"
      },
      "execution_count": null,
      "outputs": []
    },
    {
      "cell_type": "markdown",
      "source": [
        "#### Training"
      ],
      "metadata": {
        "id": "7LVFBYDcC9BD"
      }
    },
    {
      "cell_type": "code",
      "source": [
        "history = model.fit(X_train, y_train, validation_data = (X_test, y_test), epochs = 10, batch_size = 128)"
      ],
      "metadata": {
        "id": "NVTxikWUJCFg"
      },
      "execution_count": null,
      "outputs": []
    },
    {
      "cell_type": "markdown",
      "source": [
        "#### Evaluation"
      ],
      "metadata": {
        "id": "_N3cJstXC_Jo"
      }
    },
    {
      "cell_type": "code",
      "source": [
        "# Final evaluation of the model\n",
        "scores = model.evaluate(X_test, y_test)\n",
        "print(\"Accuracy: %.2f%%\" % (scores[1]*100))"
      ],
      "metadata": {
        "id": "yOhuXYH-JCnt"
      },
      "execution_count": null,
      "outputs": []
    },
    {
      "cell_type": "code",
      "source": [
        "accuracy = history.history['accuracy']\n",
        "val_accuracy = history.history['val_accuracy']\n",
        "loss = history.history['loss']\n",
        "val_loss = history.history['val_loss']\n",
        "\n",
        "epochs = range(len(accuracy))\n",
        "\n",
        "plt.plot(epochs, accuracy, 'bo', label = 'Training accuracy')\n",
        "plt.plot(epochs, val_accuracy, 'r', label = 'Validation accuracy')\n",
        "plt.title('Training and Validation Accuracy')\n",
        "plt.legend()\n",
        "plt.figure()\n",
        "\n",
        "plt.plot(epochs, loss, 'bo', label = 'Training loss')\n",
        "plt.plot(epochs, val_loss, 'r', label = 'Validation loss')\n",
        "plt.title('Training and Validation Loss')\n",
        "plt.legend()\n",
        "plt.show()"
      ],
      "metadata": {
        "id": "DzjVAsMBaEHT"
      },
      "execution_count": null,
      "outputs": []
    }
  ],
  "metadata": {
    "colab": {
      "collapsed_sections": [],
      "provenance": [],
      "toc_visible": true,
      "authorship_tag": "ABX9TyMvz9UTG12FULHPDLGaG7mm",
      "include_colab_link": true
    },
    "kernelspec": {
      "display_name": "Python 3",
      "name": "python3"
    },
    "language_info": {
      "name": "python"
    },
    "gpuClass": "standard"
  },
  "nbformat": 4,
  "nbformat_minor": 0
}